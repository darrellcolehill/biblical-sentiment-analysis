{
 "cells": [
  {
   "cell_type": "code",
   "execution_count": null,
   "metadata": {},
   "outputs": [],
   "source": [
    "# !pip install transformers torch"
   ]
  },
  {
   "cell_type": "code",
   "execution_count": null,
   "metadata": {},
   "outputs": [],
   "source": [
    "from transformers import AutoTokenizer, AutoModelForSequenceClassification\n",
    "import torch\n",
    "\n",
    "# Load the tokenizer and model\n",
    "tokenizer = AutoTokenizer.from_pretrained(\"joeddav/distilbert-base-uncased-go-emotions-student\")\n",
    "model = AutoModelForSequenceClassification.from_pretrained(\"joeddav/distilbert-base-uncased-go-emotions-student\")\n",
    "\n",
    "# Define the emotions (GoEmotions has 27 labels, ignoring the extra class)\n",
    "emotions = [\n",
    "    \"admiration\", \"amusement\", \"anger\", \"annoyance\", \"approval\", \"caring\", \"confusion\", \"curiosity\",\n",
    "    \"desire\", \"disappointment\", \"disapproval\", \"disgust\", \"embarrassment\", \"excitement\", \"fear\",\n",
    "    \"gratitude\", \"grief\", \"joy\", \"love\", \"nervousness\", \"optimism\", \"pride\", \"realization\",\n",
    "    \"relief\", \"remorse\", \"sadness\", \"surprise\"\n",
    "]\n",
    "\n",
    "text = \"\"\"Jesus continued:ÊÒThere was a man who had two sons.ÊThe younger one said to his father, ÔFather, give me my share of the estate.ÕÊSo he divided his propertyÊbetween them.\n",
    "ÒNot long after that, the younger son got together all he had, set off for a distant country and there squandered his wealthÊin wild living.ÊAfter he had spent everything, there was a severe famine in that whole country, and he began to be in need.ÊSo he went and hired himself out to a citizen of that country, who sent him to his fields to feed pigs.ÊHe longed to fill his stomach with the pods that the pigs were eating, but no one gave him anything.ÊÒWhen he came to his senses, he said, ÔHow many of my fatherÕs hired servants have food to spare, and here I am starving to death! ÊI will set out and go back to my father and say to him: Father, I have sinnedÊagainst heaven and against you.ÊI am no longer worthy to be called your son; make me like one of your hired servants.ÕÊSo he got up and went to his father.\n",
    "ÒBut while he was still a long way off, his father saw him and was filled with compassion for him; he ran to his son, threw his arms around him and kissed him.\n",
    " ÒThe son said to him, ÔFather, I have sinned against heaven and against you.ÊI am no longer worthy to be called your son.Õ\n",
    " ÒBut the father said to his servants, ÔQuick! Bring the best robeÊand put it on him. Put a ring on his fingerÊand sandals on his feet.Ê Bring the fattened calf and kill it. LetÕs have a feast and celebrate.Ê For this son of mine was dead and is alive again;Êhe was lost and is found.Õ So they began to celebrate.\n",
    " ÒMeanwhile, the older son was in the field. When he came near the house, he heard music and dancing.Ê So he called one of the servants and asked him what was going on.Ê ÔYour brother has come,Õ he replied, Ôand your father has killed the fattened calf because he has him back safe and sound.Õ\n",
    " ÒThe older brother became angryÊand refused to go in. So his father went out and pleaded with him.Ê But he answered his father, ÔLook! All these years IÕve been slaving for you and never disobeyed your orders. Yet you never gave me even a young goat so I could celebrate with my friends. But when this son of yours who has squandered your propertyÊwith prostitutesÊcomes home, you kill the fattened calf for him!Õ\n",
    " ÒÔMy son,Õ the father said, Ôyou are always with me, and everything I have is yours.Ê32ÊBut we had to celebrate and be glad, because this brother of yours was dead and is alive again; he was lost and is found.ÕÓ\"\"\"\n",
    "\n",
    "sentences = [s.strip() for s in text.split('.') if s.strip()]\n",
    "print(sentences)\n",
    "\n",
    "for sentence in sentences:\n",
    "    print(f'Working on sentence: {sentence}')\n",
    "    \n",
    "    # Tokenize the input text\n",
    "    inputs = tokenizer(sentence, return_tensors=\"pt\")\n",
    "\n",
    "    # Perform emotion detection\n",
    "    outputs = model(**inputs)\n",
    "\n",
    "    # Get the logits\n",
    "    logits = outputs.logits\n",
    "\n",
    "    # Print the shape of the logits\n",
    "    print(f\"Logits shape: {logits.shape}\")\n",
    "\n",
    "    # Apply sigmoid to get probabilities\n",
    "    probabilities = torch.sigmoid(logits).detach().numpy()[0]\n",
    "\n",
    "    # Ignore the extra logit\n",
    "    probabilities = probabilities[:27]  # Slice to match the 27 emotions\n",
    "\n",
    "    # Debugging: Print lengths to ensure consistency\n",
    "    print(f\"Length of emotions: {len(emotions)}\")\n",
    "    print(f\"Length of probabilities: {len(probabilities)}\")\n",
    "\n",
    "    # Get the predicted emotions with probabilities for all emotions\n",
    "    predicted_emotions = [(emotions[i], probabilities[i]) for i in range(len(probabilities))]\n",
    "\n",
    "    # Print the results\n",
    "    print(f\"Text: {sentence}\")\n",
    "    print(\"Predicted Emotions and Probabilities:\")\n",
    "    for emotion, prob in predicted_emotions:\n",
    "        print(f\"  {emotion}: {prob:.4f}\")\n"
   ]
  }
 ],
 "metadata": {
  "kernelspec": {
   "display_name": "Python 3",
   "language": "python",
   "name": "python3"
  },
  "language_info": {
   "codemirror_mode": {
    "name": "ipython",
    "version": 3
   },
   "file_extension": ".py",
   "mimetype": "text/x-python",
   "name": "python",
   "nbconvert_exporter": "python",
   "pygments_lexer": "ipython3",
   "version": "3.12.2"
  }
 },
 "nbformat": 4,
 "nbformat_minor": 2
}
