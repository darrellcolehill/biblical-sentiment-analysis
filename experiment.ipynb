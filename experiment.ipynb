{
 "cells": [
  {
   "cell_type": "code",
   "execution_count": 13,
   "metadata": {},
   "outputs": [],
   "source": [
    "from sentenceChunkSA import SentenceChunkSA\n",
    "from slidingWindowSA import SlidingWindowSA\n",
    "import json"
   ]
  },
  {
   "cell_type": "code",
   "execution_count": 14,
   "metadata": {},
   "outputs": [],
   "source": [
    "sliding_window_analyzer = SlidingWindowSA()\n",
    "sentence_chunking_analyzer = SentenceChunkSA()"
   ]
  },
  {
   "cell_type": "code",
   "execution_count": null,
   "metadata": {},
   "outputs": [],
   "source": [
    "# Runs EA on all summaries using every model. \n",
    "\n",
    "with open('Prodigal Son POV summaries.json', 'r') as file:\n",
    "    data = json.load(file)\n",
    "\n",
    "models = [\n",
    "    {\"model\": \"joeddav/distilbert-base-uncased-go-emotions-student\", \"emotion_model\": \"goEmotions\"}, \n",
    "    {\"model\": \"monologg/bert-base-cased-goemotions-original\", \"emotion_model\": \"goEmotions\"}, \n",
    "    {\"model\": \"SamLowe/roberta-base-go_emotions\", \"emotion_model\": \"goEmotions\"},\n",
    "    {\"model\": \"j-hartmann/emotion-english-distilroberta-base\", \"emotion_model\": \"ekman\"}\n",
    "]\n",
    "\n",
    "for i in range(len(models)):\n",
    "\n",
    "    sliding_window_analyzer.change_model(models[i][\"model\"], models[i][\"emotion_model\"])\n",
    "    sentence_chunking_analyzer.change_model(models[i][\"model\"], models[i][\"emotion_model\"])\n",
    "\n",
    "    # Uses sliding window and sentence chunking method for each summary\n",
    "    for key, value in data.items():\n",
    "        sliding_window_df = sliding_window_analyzer.analyze_text(value)\n",
    "        sliding_window_analyzer.save_to_excel(sliding_window_df, f\"sliding window {key}.xlsx\")\n",
    "\n",
    "        sentence_chunking_df = sentence_chunking_analyzer.analyze_text(value)\n",
    "        sentence_chunking_analyzer.save_to_excel(sentence_chunking_df, f\"sentence chunk {key}.xlsx\")"
   ]
  }
 ],
 "metadata": {
  "kernelspec": {
   "display_name": "Python 3",
   "language": "python",
   "name": "python3"
  },
  "language_info": {
   "codemirror_mode": {
    "name": "ipython",
    "version": 3
   },
   "file_extension": ".py",
   "mimetype": "text/x-python",
   "name": "python",
   "nbconvert_exporter": "python",
   "pygments_lexer": "ipython3",
   "version": "3.10.12"
  }
 },
 "nbformat": 4,
 "nbformat_minor": 2
}
